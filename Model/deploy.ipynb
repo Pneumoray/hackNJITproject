{
  "nbformat": 4,
  "nbformat_minor": 0,
  "metadata": {
    "colab": {
      "name": "Flask_deploy",
      "provenance": [],
      "authorship_tag": "ABX9TyN6cu2qb4GmZnXxR5b8cjre",
      "include_colab_link": true
    },
    "kernelspec": {
      "name": "python3",
      "display_name": "Python 3"
    }
  },
  "cells": [
    {
      "cell_type": "markdown",
      "metadata": {
        "id": "view-in-github",
        "colab_type": "text"
      },
      "source": [
        "<a href=\"https://colab.research.google.com/github/justbautista/hackNJITproject/blob/main/Model/deploy.ipynb\" target=\"_parent\"><img src=\"https://colab.research.google.com/assets/colab-badge.svg\" alt=\"Open In Colab\"/></a>"
      ]
    },
    {
      "cell_type": "code",
      "metadata": {
        "id": "NTAVF_Eurx9h"
      },
      "source": [
        "#Load the model \n",
        "import numpy as np\n",
        "from keras.applications.imagenet_utils import preprocess_input, decode_predictions\n",
        "from tensorflow import keras\n",
        "my_model = keras.models.load_model(\"pneum.h5\")\n",
        "\n",
        "from keras.preprocessing import image"
      ],
      "execution_count": null,
      "outputs": []
    },
    {
      "cell_type": "code",
      "metadata": {
        "id": "j4-ox1FH1nYa"
      },
      "source": [
        "# Flask utils\n",
        "# from flask import Flask, redirect, url_for, request, render_template\n",
        "# from werkzeug.utils import secure_filename"
      ],
      "execution_count": null,
      "outputs": []
    },
    {
      "cell_type": "code",
      "metadata": {
        "id": "FqFBayDvr6Cg"
      },
      "source": [
        "#Supply the image to get the classification\n",
        "\n",
        "def pneum_predict(img_path, model):\n",
        "  img = image.load_img(img_path, target_size=(224, 224))\n",
        "  x = image.img_to_array(img)\n",
        "  x = np.expand_dims(x, axis=0)\n",
        "  x = preprocess_input(x, mode='caffe')\n",
        "  pred = model.predict(x)\n",
        "  return np.argmax(pred)\n",
        "  # if pred[0][0]==1:\n",
        "  #   return 0\n",
        "  # else:\n",
        "  #   return 1"
      ],
      "execution_count": null,
      "outputs": []
    },
    {
      "cell_type": "code",
      "metadata": {
        "id": "yAsXxr-Mt6KS"
      },
      "source": [
        "pred =pneum_predict(\"img1\", my_model)"
      ],
      "execution_count": null,
      "outputs": []
    }
  ]
}